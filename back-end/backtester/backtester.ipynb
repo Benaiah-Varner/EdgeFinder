{
 "cells": [
  {
   "cell_type": "code",
   "execution_count": null,
   "metadata": {
    "vscode": {
     "languageId": "powershell"
    }
   },
   "outputs": [],
   "source": [
    "!pip install scipy\n"
   ]
  },
  {
   "cell_type": "code",
   "execution_count": null,
   "metadata": {},
   "outputs": [],
   "source": [
    "import ta.momentum\n",
    "import yfinance as yf\n",
    "import pandas as pd\n",
    "import ta as ta\n",
    "from scipy.signal import argrelextrema\n",
    "import numpy as np\n",
    "\n",
    "# Download data with timezone information\n",
    "spy = yf.download(\"CMS\", period=\"1y\", interval=\"1d\")\n",
    "rsi_input = spy[\"Close\"].squeeze()\n",
    "\n",
    "spy[\"RSI\"] = ta.momentum.RSIIndicator(rsi_input, window=14).rsi()\n",
    "\n",
    "def get_swing_lows(prices, order=5):\n",
    "    idx = argrelextrema(prices.values, np.less_equal, order=order)[0]\n",
    "    return prices.iloc[idx]\n",
    "\n",
    "swing_lows = get_swing_lows(spy['Close'], order=5)\n",
    "\n",
    "# Identify bullish divergence\n",
    "bullish_divergences = []\n",
    "\n",
    "for i in range(1, len(swing_lows)):\n",
    "    prev_date = swing_lows.index[i - 1]\n",
    "    curr_date = swing_lows.index[i]\n",
    "\n",
    "    # Extract scalar values using .values[0]\n",
    "    prev_price = spy.loc[prev_date, 'Close'].values[0]\n",
    "    curr_price = spy.loc[curr_date, 'Close'].values[0]\n",
    "\n",
    "    prev_rsi = spy.loc[prev_date, 'RSI'].values[0]\n",
    "    curr_rsi = spy.loc[curr_date, 'RSI'].values[0]\n",
    "\n",
    "    if curr_price < prev_price and curr_rsi > prev_rsi and (curr_rsi < 40 and prev_rsi < 35):\n",
    "        # Store the full datetime index instead of just the date\n",
    "        bullish_divergences.append((prev_date, curr_date))\n",
    "print('bullish divergences ', bullish_divergences)\n",
    "\n",
    "# Analyze price movements following divergences\n",
    "successful_trades = 0\n",
    "total_trades = len(bullish_divergences)\n",
    "\n",
    "for divergence in bullish_divergences:\n",
    "    # Use the datetime index directly\n",
    "    start_date = divergence[1]\n",
    "    \n",
    "    # Get the index of the start date\n",
    "    start_idx = spy.index.get_loc(start_date)\n",
    "    \n",
    "    # Get the next 10 trading periods (if available)\n",
    "    if start_idx + 10 < len(spy):\n",
    "        # Get the base price (price at divergence point)\n",
    "        base_price = spy.iloc[start_idx]['Close']\n",
    "        \n",
    "        # Get the next 10 periods of prices\n",
    "        next_10_periods = spy.iloc[start_idx+1:start_idx+11]['Close']\n",
    "        \n",
    "        # Check if price increased by 2% at any point\n",
    "        max_price = next_10_periods.max()\n",
    "        price_increase = float((max_price - base_price) / base_price * 100)\n",
    "        \n",
    "        if price_increase >= 2:\n",
    "            successful_trades += 1\n",
    "\n",
    "# Calculate and print results\n",
    "success_rate = (successful_trades / total_trades * 100) if total_trades > 0 else 0\n",
    "print(f'\\nResults:')\n",
    "print(f'Total divergences found: {total_trades}')\n",
    "print(f'Successful trades (2%+ increase): {successful_trades}')\n",
    "print(f'Success rate: {success_rate:.2f}%')"
   ]
  }
 ],
 "metadata": {
  "kernelspec": {
   "display_name": "Python 3",
   "language": "python",
   "name": "python3"
  },
  "language_info": {
   "codemirror_mode": {
    "name": "ipython",
    "version": 3
   },
   "file_extension": ".py",
   "mimetype": "text/x-python",
   "name": "python",
   "nbconvert_exporter": "python",
   "pygments_lexer": "ipython3",
   "version": "3.11.9"
  }
 },
 "nbformat": 4,
 "nbformat_minor": 2
}
